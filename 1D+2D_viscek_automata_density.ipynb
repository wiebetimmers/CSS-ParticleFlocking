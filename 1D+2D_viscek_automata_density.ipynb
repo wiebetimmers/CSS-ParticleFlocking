{
 "cells": [
  {
   "cell_type": "markdown",
   "metadata": {},
   "source": [
    "# 12.2. Simulating an elementary cellular automaton"
   ]
  },
  {
   "cell_type": "code",
   "execution_count": 3,
   "metadata": {},
   "outputs": [],
   "source": [
    "import numpy as np\n",
    "import matplotlib\n",
    "import random\n",
    "import matplotlib.pyplot as plt\n",
    "from collections import Counter\n",
    "%matplotlib inline\n",
    "\n",
    "#some code from https://github.com/ipython-books/cookbook-2nd-code"
   ]
  },
  {
   "cell_type": "markdown",
   "metadata": {},
   "source": [
    "# Print some velocity averages"
   ]
  },
  {
   "cell_type": "code",
   "execution_count": 4,
   "metadata": {},
   "outputs": [],
   "source": [
    "# N = 1000\n",
    "# L = 1000\n",
    "# its = 1000\n",
    "# eta_range = [2.0, 0.2, 0.02, 0.002, 0.0002]\n",
    "\n",
    "# for eta in eta_range:\n",
    "#     p = (N/L)\n",
    "#     x = generate2(L, its, eta, p)\n",
    "#     avg_velocity = []\n",
    "\n",
    "#     for gen in x:\n",
    "#         velocities = []\n",
    "#         for vel in gen:  # only count the non-zero velocities\n",
    "#             if vel != 0:\n",
    "#                 velocities.append(vel)\n",
    "#         avg_velocity.append(sum(velocities)/len(velocities))\n",
    "#     plt.plot(avg_velocity, label=eta)\n",
    "\n",
    "# plt.legend()\n",
    "# plt.show()"
   ]
  },
  {
   "cell_type": "markdown",
   "metadata": {},
   "source": [
    "## Particle density plot"
   ]
  },
  {
   "cell_type": "code",
   "execution_count": 5,
   "metadata": {},
   "outputs": [],
   "source": [
    "def U(x_row, pos):\n",
    "    neighbours = []\n",
    "     \n",
    "    # two nearest neighbours total \n",
    "    if pos == 0:\n",
    "        neighbours_pos = [1, -1, pos]\n",
    "    elif pos == len(x_row)-1:\n",
    "        neighbours_pos = [0, -2, pos]\n",
    "    else:\n",
    "        neighbours_pos = [pos-1, pos, pos+1]  \n",
    "    \n",
    "    maj_velocity = 0\n",
    "    for n in neighbours_pos:\n",
    "        pos_list = x_row[n]\n",
    "        for idx in range(len(pos_list)):\n",
    "            maj_velocity += x_row[n][idx] # getting the velocity of every bird that is locates at this position\n",
    "    \n",
    "    if maj_velocity > 0:\n",
    "        velocity_avg = +1\n",
    "    elif maj_velocity < 0:\n",
    "        velocity_avg = -1\n",
    "    else:\n",
    "        velocity_avg = 0\n",
    "    \n",
    "    return velocity_avg\n",
    "\n",
    "def flock_step(x_row, eta, size):\n",
    "    new_row = [ [] for _ in range(size) ]\n",
    "\n",
    "    for pos, birds in enumerate(x_row):\n",
    "        for bird in (birds):\n",
    "            #chosen particle\n",
    "            x_mu = pos  # location of bird\n",
    "            v_mu = bird   # velocity of bird\n",
    "\n",
    "            U_x = U(x_row, pos)\n",
    "\n",
    "            W_u = (1-(1-2*eta)*v_mu*U_x)/2\n",
    "            if v_mu == 0:\n",
    "                continue\n",
    "\n",
    "            if (random.random() < W_u):\n",
    "                # We flip direction of bird\n",
    "                if v_mu == -1:\n",
    "                    vel_to_insert = 1\n",
    "                    pos_to_insert = x_mu + vel_to_insert\n",
    "\n",
    "                    # make sure we keep bounds in mind, insert in the beginning\n",
    "                    if pos_to_insert > (len(x_row)-1):\n",
    "                        pos_to_insert = 0\n",
    "                else: # v_mu is 1\n",
    "                    vel_to_insert = -1\n",
    "                    pos_to_insert = x_mu + vel_to_insert\n",
    "                \n",
    "                new_row[pos_to_insert].append(vel_to_insert)\n",
    "                \n",
    "            else:\n",
    "                # We do not flip, keep original velocity. But we do move the bird\n",
    "                vel_to_insert = v_mu\n",
    "                if (pos == (len(x_row)-1)) & (v_mu == 1): # move from right bound to left bound\n",
    "                    pos_to_insert = 0\n",
    "                else:\n",
    "                    pos_to_insert = x_mu + v_mu\n",
    "                \n",
    "                new_row[pos_to_insert].append(vel_to_insert)\n",
    "    \n",
    "    return new_row\n",
    "\n",
    "\n",
    "def generate_1d(size, steps, eta, p):\n",
    "    x = [ [ [] for _ in range(size) ] for _ in range(steps) ]\n",
    "    \n",
    "    velocities  = np.random.choice([-1, 0, 1], size=size, p=[p/2, 1-p, p/2])\n",
    "    velocities = velocities.tolist()\n",
    "\n",
    "    for idx, v in enumerate(velocities):\n",
    "        x[0][idx] = [v]\n",
    "    \n",
    "    for i in range(steps - 1):\n",
    "        x[i + 1] = flock_step(x[i], eta, size)\n",
    "        \n",
    "    return x"
   ]
  },
  {
   "cell_type": "code",
   "execution_count": 6,
   "metadata": {},
   "outputs": [
    {
     "data": {
      "text/plain": [
       "<matplotlib.image.AxesImage at 0x1a94831d580>"
      ]
     },
     "execution_count": 6,
     "metadata": {},
     "output_type": "execute_result"
    },
    {
     "data": {
      "image/png": "[encoded data removed]",
      "text/plain": [
       "<Figure size 1440x1152 with 1 Axes>"
      ]
     },
     "metadata": {
      "needs_background": "light"
     },
     "output_type": "display_data"
    }
   ],
   "source": [
    "N = 100\n",
    "L = 100\n",
    "its = 100\n",
    "eta = 0.001\n",
    "p = (N/L)\n",
    "x = generate_1d(L, its, eta, p)\n",
    "\n",
    "\n",
    "def get_density_values(x):\n",
    "    list_of_density = []\n",
    "    for gens in x:\n",
    "        density_row = []\n",
    "        for pos in gens:\n",
    "            density_row.append(len(pos))\n",
    "        list_of_density.append(density_row)\n",
    "    return list_of_density\n",
    "\n",
    "\n",
    "density_x = get_density_values(x)\n",
    "\n",
    "plt.figure(figsize=(20, 16))\n",
    "plt.ylabel('t')\n",
    "plt.xlabel('x(t)')\n",
    "plt.imshow(density_x, interpolation='none')"
   ]
  },
  {
   "cell_type": "markdown",
   "metadata": {},
   "source": [
    "## to do\n",
    "- bifurcation plot\n",
    "- logistic map\n",
    "- variance in particle density"
   ]
  },
  {
   "cell_type": "code",
   "execution_count": 70,
   "metadata": {},
   "outputs": [
    {
     "name": "stdout",
     "output_type": "stream",
     "text": [
      "one row of 1d plot [[-1, -1], [1, -1, -1, -1, -1, -1, -1], [-1], [-1, -1, -1, -1, -1], [1, -1, -1, -1, -1, -1], [-1], [], [-1], [1, -1], [-1], [-1, -1], [], [-1, -1], [-1, -1, -1], [-1], [], [], [], [], [], [-1, -1], [-1], [-1, -1], [-1, -1, -1], [], [1, -1], [-1], [-1, -1, -1], [1, -1, -1], [], [], [-1], [1, -1], [], [-1], [], [], [-1], [], [], [], [], [], [], [-1], [], [], [], [], [], [], [], [-1], [], [-1], [], [], [], [-1, -1], [-1], [-1, -1], [], [], [], [], [], [], [], [], [1, 1, -1], [1, -1], [1, 1], [1, 1, 1], [1, 1, 1, 1, 1, 1, 1, 1, 1, 1, -1], [1, 1, 1, 1, 1], [], [], [], [], [1], [], [], [], [], [], [], [], [], [], [], [], [1], [1], [], [], [], [], [], [1, -1, -1, -1, -1], [-1, -1]]\n"
     ]
    }
   ],
   "source": [
    "print('one row of 1d plot', x[20])"
   ]
  },
  {
   "cell_type": "markdown",
   "metadata": {},
   "source": [
    "## 2D implementation"
   ]
  },
  {
   "cell_type": "code",
   "execution_count": 15,
   "metadata": {},
   "outputs": [],
   "source": [
    "def get_2d_neighbours(gen, pos):\n",
    "    row_neighbours = []\n",
    "    column_neighbours = []\n",
    "    \n",
    "    #pos[0] is the row, pos[1] the column\n",
    "    \n",
    "    # the column value for this equals pos[0], only different row\n",
    "    if pos[0] == 0:\n",
    "        row_neighbours = [1, -1, 0]\n",
    "    elif pos[0] == len(gen)-1:\n",
    "        row_neighbours = [0, -2, -1]\n",
    "    else:\n",
    "        row_neighbours = [pos[0]-1, pos[0], pos[0]+1]\n",
    "        \n",
    "    \n",
    "    # the row value for this equals the same, we skip the count of our own cell as we already count that in the above\n",
    "    if pos[1] == 0:\n",
    "        column_neigbours = [1, -1]\n",
    "    elif pos[1] == len(gen[0])-1:\n",
    "        column_neighbours = [0, -2]\n",
    "    else: \n",
    "        column_neighbours = [pos[1]-1, pos[1]+1]\n",
    "        \n",
    "    \n",
    "    neighbour_particles = []\n",
    "    for r in row_neighbours:\n",
    "        neighbour_particles.append(gen[r][pos[1]])\n",
    "    \n",
    "    for c in column_neighbours:\n",
    "        neighbour_particles.append(gen[pos[0]][c])\n",
    "        \n",
    "#     print('neighbours', neighbour_particles)\n",
    "    return neighbour_particles\n",
    "\n",
    "\n",
    "def U_2d(gen, pos, particle):\n",
    "    neighbour_particles = get_2d_neighbours(gen, pos)\n",
    "    neighbour_particles_flat = [x for xs in neighbour_particles for x in xs]\n",
    "    \n",
    "#     print(neighbour_particles_flat)\n",
    "    counter = Counter(neighbour_particles_flat).most_common(2)\n",
    "    \n",
    "    if len(counter) == 1:\n",
    "        dominant_direction = counter[0][0]\n",
    "        return dominant_direction \n",
    "    \n",
    "    count1 = counter[0][1]\n",
    "    count2 = counter[1][1]\n",
    "    \n",
    "    if count1 != count2: # We have a majority of 1 direction. \n",
    "        dominant_direction = counter[0][0]\n",
    "        return dominant_direction\n",
    "    else:\n",
    "        return particle\n",
    "\n",
    "    \n",
    "def direction_change(direction, row_no, column_no, gen_length, row_length): \n",
    "    if direction == 'u':\n",
    "        new_row = row_no-1     \n",
    "        new_co = (new_row, column_no)\n",
    "        \n",
    "    elif direction == 'd':\n",
    "        new_row = row_no+1 \n",
    "        if new_row > (gen_length-1):\n",
    "            new_row = 0\n",
    "        new_co = (new_row, column_no)\n",
    "        \n",
    "    elif direction == 'l':\n",
    "        new_col = column_no - 1\n",
    "        new_co = (row_no, new_col)\n",
    "        \n",
    "    else:      #direction == 'r':\n",
    "        new_col = column_no - 1\n",
    "        if new_col > (row_length-1):\n",
    "            new_col = 0\n",
    "        new_co = (row_no, new_col)\n",
    "        \n",
    "    return new_co\n",
    "        \n",
    "\n",
    "def flock_step_2d(gen, eta, size):\n",
    "    new_gen = [ [ [] for _ in range(size) ] for _ in range(size) ]\n",
    "\n",
    "    for row_number, particle_row in enumerate(gen):\n",
    "        for column_number, particle_pos in enumerate(particle_row):\n",
    "            for particle in particle_pos:\n",
    "                #chosen particle\n",
    "                x_mu = (row_number, column_number)  # location of particle\n",
    "                v_mu = particle   # velocity of particle\n",
    "                \n",
    "                U_x = U_2d(gen, x_mu, particle)\n",
    "                \n",
    "                # Transform direction strings to integers\n",
    "                if v_mu == 'u':\n",
    "                    v_trans = -1\n",
    "                elif v_mu == 'd':\n",
    "                    v_trans = 1\n",
    "                elif v_mu == 'l':\n",
    "                    v_trans = -1\n",
    "                elif v_mu == 'r':\n",
    "                    v_trans = 1\n",
    "                else:\n",
    "                    v_trans =0 \n",
    "                \n",
    "                numerical_direction = 0\n",
    "                \n",
    "                if U_x == 'u':\n",
    "                    numerical_direction = -1\n",
    "                    \n",
    "                elif U_x == 'd':\n",
    "                    numerical_direction = +1\n",
    "                \n",
    "                elif U_x == 'r':\n",
    "                    numerical_direction = +1\n",
    "                    \n",
    "                elif U_x == 'l':\n",
    "                    numerical_direction = -1\n",
    "                    \n",
    "                elif U_x == \"c\":\n",
    "                    numerical_direction = 0\n",
    "                    continue\n",
    "                    \n",
    "                W_u = (1-(1-2*eta)*v_trans*numerical_direction)/4  # Divide by 4 , because at random we have 4 directions\n",
    "                \n",
    "                \n",
    "                if (random.random() < W_u):\n",
    "\n",
    "                    # We flip direction of bird\n",
    "                    if v_mu == 'u':\n",
    "                        new_direct = (np.random.choice(['d', 'l', 'r'], size=1, p=[1/3, 1/3, 1/3])).tolist()\n",
    "                        vel_to_insert = new_direct[0]\n",
    "                        new_co = direction_change(vel_to_insert, row_number, column_number, len(gen), len(gen[0]))\n",
    "                    elif v_mu == 'd':\n",
    "                        new_direct = (np.random.choice(['u', 'l', 'r'], size=1, p=[1/3, 1/3, 1/3])).tolist()\n",
    "                        vel_to_insert = new_direct[0]\n",
    "                        new_co = direction_change(vel_to_insert, row_number, column_number, len(gen), len(gen[0]))\n",
    "                    elif v_mu == 'l': \n",
    "                        new_direct = (np.random.choice(['u', 'r', 'd'], size=1, p=[1/3, 1/3, 1/3])).tolist()\n",
    "                        vel_to_insert = new_direct[0]\n",
    "                        new_co = direction_change(vel_to_insert, row_number, column_number, len(gen), len(gen[0]))\n",
    "                    elif v_mu == 'r': \n",
    "                        new_direct = (np.random.choice(['u', 'l', 'd'], size=1, p=[1/3, 1/3, 1/3])).tolist()\n",
    "                        vel_to_insert = new_direct[0]\n",
    "                        new_co = direction_change(vel_to_insert, row_number, column_number, len(gen), len(gen[0]))\n",
    "\n",
    "                    new_gen[new_co[0]][new_co[1]].append(vel_to_insert)\n",
    "\n",
    "                else:\n",
    "                    # We do not flip, keep original velocity. But we do move the bird\n",
    "                    vel_to_insert = v_mu\n",
    "                    if v_mu == 'u':\n",
    "                        new_co = direction_change(vel_to_insert, row_number, column_number, len(gen), len(gen[0]))\n",
    "                    elif v_mu == 'd':\n",
    "                        new_co = direction_change(vel_to_insert, row_number, column_number, len(gen), len(gen[0]))\n",
    "                    elif v_mu == 'l':\n",
    "                        new_co = direction_change(vel_to_insert, row_number, column_number, len(gen), len(gen[0]))\n",
    "                    elif v_mu == 'r':\n",
    "                        new_co = direction_change(vel_to_insert, row_number, column_number, len(gen), len(gen[0]))\n",
    "\n",
    "                    new_gen[new_co[0]][new_co[1]].append(vel_to_insert)\n",
    "#         print(new_gen[row_number])\n",
    "#         print('new row ---')\n",
    "    \n",
    "    return new_gen\n",
    "\n",
    "\n",
    "def generate_2d(size, steps, eta, p):\n",
    "    # Directions: up, down, left, right, center (not moving)\n",
    "    x = []\n",
    "    \n",
    "    for i in range(steps):\n",
    "        empty_gen = [ [ [] for _ in range(size) ] for _ in range(size) ]\n",
    "        x.append(empty_gen)\n",
    "    \n",
    "    initial_gen = [ (np.random.choice(['u', 'd', 'c', 'l', 'r'], size=size, p=[p/4, p/4, 1-p, p/4, p/4])).tolist() for _ in range(size) ]\n",
    "    \n",
    "    for idx, i in enumerate(initial_gen):\n",
    "        res = []\n",
    "        for el in i:\n",
    "            sub = el.split(', ')\n",
    "            res.append(sub)\n",
    "        initial_gen[idx] = res\n",
    "    \n",
    "    \n",
    "    \n",
    "#     print(initial_gen)\n",
    "\n",
    "\n",
    "    x[0] = initial_gen\n",
    "#     print(x[0][0])\n",
    "#     x[1] == flock_step_2d(x[0], eta, size)\n",
    "\n",
    "# #     print(x[1])\n",
    "#     x[2] == flock_step_2d(x[1], eta, size)\n",
    "# #     print(x[2])\n",
    "#     return x[2]\n",
    "    for i in range(steps - 1):\n",
    "         x[i + 1] = flock_step_2d(x[i], eta, size)\n",
    "    \n",
    "    first_gen = x[0]\n",
    "    middle_gen = x[round(steps/2)]\n",
    "    final_gen = x[-1]\n",
    "    summary = [first_gen, middle_gen, final_gen]\n",
    "        \n",
    "    return summary\n",
    "\n",
    "# generate_2d(100, 100, 0.2, 1.0)"
   ]
  },
  {
   "cell_type": "markdown",
   "metadata": {},
   "source": [
    "## Parameters + run model"
   ]
  },
  {
   "cell_type": "code",
   "execution_count": 30,
   "metadata": {},
   "outputs": [],
   "source": [
    "N = 100 # N.o. particles per row\n",
    "L = 100 # LxL grid\n",
    "its = 1000\n",
    "eta = 0.0\n",
    "p = ((N*N)/(L*L)) # we occupy every cell in the grid when initializing\n",
    "\n",
    "summary = generate_2d(L, its, eta, p)"
   ]
  },
  {
   "cell_type": "code",
   "execution_count": 31,
   "metadata": {},
   "outputs": [],
   "source": [
    "def get_density_values(x0):\n",
    "    list_of_density = []\n",
    "    for gens in x0:\n",
    "        density_row = []\n",
    "        for pos in gens:\n",
    "            density_row.append(len(pos))\n",
    "        list_of_density.append(density_row)\n",
    "    return list_of_density\n",
    "\n",
    "\n",
    "# for s in summary:\n",
    "#     density_x = get_density_values(s)\n",
    "#     plt.figure(figsize=(20, 16))\n",
    "#     plt.imshow(density_x, interpolation='none')\n",
    "#     plt.show()\n",
    "#     plt.clf()"
   ]
  },
  {
   "cell_type": "markdown",
   "metadata": {},
   "source": [
    "### Plotting 3 gens"
   ]
  },
  {
   "cell_type": "code",
   "execution_count": 32,
   "metadata": {},
   "outputs": [
    {
     "data": {
      "text/plain": [
       "<matplotlib.image.AxesImage at 0x1a937a17f10>"
      ]
     },
     "execution_count": 32,
     "metadata": {},
     "output_type": "execute_result"
    },
    {
     "data": {
      "image/png": "[encoded data removed]",
      "text/plain": [
       "<Figure size 1440x1152 with 1 Axes>"
      ]
     },
     "metadata": {
      "needs_background": "light"
     },
     "output_type": "display_data"
    }
   ],
   "source": [
    "density_x = get_density_values(summary[0])\n",
    "plt.figure(figsize=(20, 16))\n",
    "plt.imshow(density_x, interpolation='none')"
   ]
  },
  {
   "cell_type": "code",
   "execution_count": 33,
   "metadata": {},
   "outputs": [
    {
     "data": {
      "text/plain": [
       "<matplotlib.image.AxesImage at 0x1a9347971c0>"
      ]
     },
     "execution_count": 33,
     "metadata": {},
     "output_type": "execute_result"
    },
    {
     "data": {
      "image/png": "[encoded data removed]",
      "text/plain": [
       "<Figure size 1440x1152 with 1 Axes>"
      ]
     },
     "metadata": {
      "needs_background": "light"
     },
     "output_type": "display_data"
    }
   ],
   "source": [
    "density_x = get_density_values(summary[1])\n",
    "plt.figure(figsize=(20, 16))\n",
    "plt.imshow(density_x, interpolation='none')"
   ]
  },
  {
   "cell_type": "code",
   "execution_count": 34,
   "metadata": {},
   "outputs": [
    {
     "data": {
      "text/plain": [
       "<matplotlib.image.AxesImage at 0x1a90393d880>"
      ]
     },
     "execution_count": 34,
     "metadata": {},
     "output_type": "execute_result"
    },
    {
     "data": {
      "image/png": "[encoded data removed]",
      "text/plain": [
       "<Figure size 1440x1152 with 1 Axes>"
      ]
     },
     "metadata": {
      "needs_background": "light"
     },
     "output_type": "display_data"
    }
   ],
   "source": [
    "density_x = get_density_values(summary[2])\n",
    "plt.figure(figsize=(20, 16))\n",
    "plt.imshow(density_x, interpolation='none')"
   ]
  },
  {
   "cell_type": "code",
   "execution_count": null,
   "metadata": {},
   "outputs": [],
   "source": []
  }
 ],
 "metadata": {
  "kernelspec": {
   "display_name": "Python 3 (ipykernel)",
   "language": "python",
   "name": "python3"
  },
  "language_info": {
   "codemirror_mode": {
    "name": "ipython",
    "version": 3
   },
   "file_extension": ".py",
   "mimetype": "text/x-python",
   "name": "python",
   "nbconvert_exporter": "python",
   "pygments_lexer": "ipython3",
   "version": "3.9.12"
  }
 },
 "nbformat": 4,
 "nbformat_minor": 2
}
